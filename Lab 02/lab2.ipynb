{
 "cells": [
  {
   "attachments": {},
   "cell_type": "markdown",
   "metadata": {},
   "source": [
    "# Labolatorium 2 - Kodowanie Huffmana"
   ]
  },
  {
   "cell_type": "code",
   "execution_count": 22,
   "metadata": {},
   "outputs": [],
   "source": [
    "import numpy as np\n",
    "import os\n",
    "from collections import deque\n",
    "from bitarray import bitarray\n",
    "from time import process_time"
   ]
  },
  {
   "attachments": {},
   "cell_type": "markdown",
   "metadata": {},
   "source": [
    "## Zadanie 1 - Implementacja kodera Huffmana"
   ]
  },
  {
   "attachments": {},
   "cell_type": "markdown",
   "metadata": {},
   "source": [
    "### Statyczny algorytm Huffmana"
   ]
  },
  {
   "cell_type": "code",
   "execution_count": 23,
   "metadata": {},
   "outputs": [],
   "source": [
    "class StaticHuffmanEncoder():\n",
    "    class Node():\n",
    "        def __init__(self, left=None, right=None, value=None, weight=0):\n",
    "            self.left = left\n",
    "            self.right = right\n",
    "            self.value = value\n",
    "            self.weight = weight\n",
    "\n",
    "        def __lt__(self, other):\n",
    "            return self.weight < other.weight\n",
    "\n",
    "    def __init__(self, text):\n",
    "        self.text = text\n",
    "        self.freq = self.get_freq()\n",
    "        self.tree = self.build_tree()\n",
    "        self.codes = self.get_code()\n",
    "\n",
    "    def get_freq(self):\n",
    "        freq = {}\n",
    "        for c in self.text:\n",
    "            if c in freq:\n",
    "                freq[c] += 1\n",
    "            else:\n",
    "                freq[c] = 1\n",
    "        return freq\n",
    "    \n",
    "    def build_tree(self):\n",
    "        leafs = deque(sorted([self.Node(weight=self.freq[c], value=c) for c in self.freq], key=lambda x: x.weight))\n",
    "        internal_nodes = deque()\n",
    "\n",
    "        while len(leafs) + len(internal_nodes) > 1:\n",
    "            # Pop two nodes with the lowest weight\n",
    "            if len(leafs) == 0:\n",
    "                left = internal_nodes.popleft()\n",
    "            elif len(internal_nodes) == 0:\n",
    "                left = leafs.popleft()\n",
    "            else:\n",
    "                if leafs[0].weight < internal_nodes[0].weight:\n",
    "                    left = leafs.popleft()\n",
    "                else:\n",
    "                    left = internal_nodes.popleft()\n",
    "            if len(leafs) == 0:\n",
    "                right = internal_nodes.popleft()\n",
    "            elif len(internal_nodes) == 0:\n",
    "                right = leafs.popleft()\n",
    "            else:\n",
    "                if leafs[0].weight < internal_nodes[0].weight:\n",
    "                    right = leafs.popleft()\n",
    "                else:\n",
    "                    right = internal_nodes.popleft()\n",
    "            internal_nodes.append(self.Node(left=left, right=right, weight=left.weight+right.weight))\n",
    "\n",
    "        return internal_nodes.popleft()\n",
    "\n",
    "        \n",
    "    def get_code(self):\n",
    "        codes = {}\n",
    "        def traverse(node, code):\n",
    "            if node.value:\n",
    "                codes[node.value] = code\n",
    "            else:\n",
    "                traverse(node.left, code + '0')\n",
    "                traverse(node.right, code + '1')\n",
    "        traverse(self.tree, '')\n",
    "        return codes\n",
    "    \n",
    "    def encode(self, text=None, encode_tree=False):\n",
    "        if text is None:\n",
    "            text = self.text\n",
    "\n",
    "        encoded = bitarray()\n",
    "        if encode_tree:\n",
    "            encoded.extend(f'{len(self.freq):032b}')\n",
    "\n",
    "            for c in self.codes:\n",
    "                encoded.extend(f'{ord(c):08b}')\n",
    "                encoded.extend(f'{self.freq[c]:032b}')\n",
    "\n",
    "        for c in text:\n",
    "            encoded.extend(self.codes[c])\n",
    "\n",
    "        # Make coded text divisible by 8\n",
    "        end_bits = 8 - len(encoded) % 8\n",
    "        encoded = bitarray(f\"{end_bits:08b}\") + encoded + bitarray(end_bits)\n",
    "\n",
    "        return encoded\n",
    "    \n",
    "    def encode_to_file(self, filename, text=None, encode_tree=False):\n",
    "        encoded = self.encode(text, encode_tree)\n",
    "        with open(filename, 'wb') as f:\n",
    "            encoded.tofile(f)\n",
    "            \n",
    "        return encoded\n",
    "\n",
    "    def decode(self, encoded: bitarray, encoded_tree = False):\n",
    "        decoded = ''\n",
    "        encoded = encoded[8:-int(encoded[:8].to01(),2)]\n",
    "\n",
    "        if not encoded_tree:\n",
    "            node = self.tree\n",
    "            idx = 0\n",
    "        else:\n",
    "            no_of_codes = int(encoded[:32].to01(), 2)\n",
    "            idx = 32\n",
    "            for i in range(no_of_codes):\n",
    "                c = chr(int(encoded[idx:idx+8].to01(), 2))\n",
    "                idx += 8\n",
    "                code_freq = int(encoded[idx:idx+32].to01(), 2)\n",
    "                self.freq[c] = code_freq\n",
    "                idx += 32\n",
    "\n",
    "            node = self.build_tree()\n",
    "\n",
    "        for c in encoded[idx:]:\n",
    "            if not c:\n",
    "                node = node.left\n",
    "            else:\n",
    "                node = node.right\n",
    "            if node.value:\n",
    "                decoded += node.value\n",
    "                node = self.tree\n",
    "        return decoded    \n",
    "    \n",
    "    def decode_from_file(self, filename, encoded_tree = False):\n",
    "        with open(filename, 'rb') as f:\n",
    "            encoded = bitarray()\n",
    "            encoded.fromfile(f)\n",
    "        return self.decode(encoded, encoded_tree)\n",
    "    \n",
    "    def print_tree(self):\n",
    "        def traverse(node, code):\n",
    "            if node.value:\n",
    "                print(f\"{node.value}: {code}\")\n",
    "            else:\n",
    "                traverse(node.left, code + '0')\n",
    "                traverse(node.right, code + '1')\n",
    "        traverse(self.tree, '')"
   ]
  },
  {
   "attachments": {},
   "cell_type": "markdown",
   "metadata": {},
   "source": [
    "#### Przykład kodowania tekstu bez zapisu liczby wystąpień znaków do pliku\n"
   ]
  },
  {
   "cell_type": "code",
   "execution_count": 24,
   "metadata": {},
   "outputs": [
    {
     "name": "stdout",
     "output_type": "stream",
     "text": [
      "Original text:  Hello World!\n",
      "Encoded text:  bitarray('000000110110011110100011001101001110101111010010')\n",
      "Decoded text:  Hello World!\n"
     ]
    }
   ],
   "source": [
    "text = \"Hello World!\"\n",
    "encoder = StaticHuffmanEncoder(text)\n",
    "encoded = encoder.encode(encode_tree=False)\n",
    "decoded = encoder.decode(encoded, encoded_tree=False)\n",
    "\n",
    "print(\"Original text: \", text)\n",
    "print(\"Encoded text: \", encoded)\n",
    "print(\"Decoded text: \", decoded)"
   ]
  },
  {
   "attachments": {},
   "cell_type": "markdown",
   "metadata": {},
   "source": [
    "#### Przykład kodowania tekstu z zapisem liczby wystąpień znaków do pliku\n"
   ]
  },
  {
   "cell_type": "code",
   "execution_count": 25,
   "metadata": {},
   "outputs": [
    {
     "name": "stdout",
     "output_type": "stream",
     "text": [
      "Original text:  Hello World!\n",
      "Encoded text:  bitarray('00000011000000000000000000000000000010010110111100000000000000000000000000000010001000010000000000000000000000000000000101001000000000000000000000000000000000010110010100000000000000000000000000000001011011000000000000000000000000000000001100100000000000000000000000000000000000010101011100000000000000000000000000000001011100100000000000000000000000000000000101100100000000000000000000000000000000010110011110100011001101001110101111010110')\n",
      "Decoded text:  Hello World!\n"
     ]
    }
   ],
   "source": [
    "text = \"Hello World!\"\n",
    "encoder = StaticHuffmanEncoder(text)\n",
    "encoded = encoder.encode(encode_tree=True)\n",
    "decoded = encoder.decode(encoded, encoded_tree=True)\n",
    "\n",
    "print(\"Original text: \", text)\n",
    "print(\"Encoded text: \", encoded)\n",
    "print(\"Decoded text: \", decoded)"
   ]
  },
  {
   "attachments": {},
   "cell_type": "markdown",
   "metadata": {},
   "source": [
    "### Dynamiczny algorytm Huffmana"
   ]
  },
  {
   "cell_type": "code",
   "execution_count": 26,
   "metadata": {},
   "outputs": [],
   "source": [
    "class AdaptiveHuffmanEncoder():\n",
    "    class Node():\n",
    "        def __init__(self, right=None, parent=None, weight=0, index=0, value=None, left=None):\n",
    "            self.left = left\n",
    "            self.right = right\n",
    "            self.parent = parent\n",
    "            self.value = value\n",
    "            self.weight = weight\n",
    "            self.index = index\n",
    "\n",
    "    def __init__(self):\n",
    "        self.index = 999999 # Should be a large number\n",
    "        tmp = self.Node(weight=0, index=self.index, value=\"NYT\")\n",
    "        self.root = tmp\n",
    "        self.nodes = {\"NYT\": self.root}\n",
    "        self.weights = {0: set([self.root]), 1: set()}\n",
    "\n",
    "    def add_char_to_tree(self, char):\n",
    "        node = self.nodes[\"NYT\"]\n",
    "        node.left = self.Node(weight=0, index=self.index - 2, parent=node, value=\"NYT\")\n",
    "        self.weights[0].add(node.left)\n",
    "        self.nodes[\"NYT\"] = node.left\n",
    "\n",
    "        node.right = self.Node(weight=1, index=self.index-1, parent=node, value=char)\n",
    "        self.weights[1].add(node.right)\n",
    "        self.nodes[char] = node.right\n",
    "        \n",
    "        node.value = None\n",
    "        self.index -= 2\n",
    "\n",
    "        self.increment(node)\n",
    "\n",
    "    def increment(self, node):\n",
    "        while node != self.root:\n",
    "            node = node.parent\n",
    "            block_leader = max(self.weights[node.weight], key=lambda x: x.index)\n",
    "\n",
    "            if node != block_leader:\n",
    "                # Swap nodes\n",
    "                node.index, block_leader.index = block_leader.index, node.index\n",
    "\n",
    "                # If nodes have same parent, swap subtrees\n",
    "                if node.parent == block_leader.parent:\n",
    "                    if node == node.parent.left:\n",
    "                        node.parent.right = node\n",
    "                        node.parent.left = block_leader\n",
    "                    else:\n",
    "                        node.parent.right = block_leader\n",
    "                        node.parent.left = node\n",
    "                else:\n",
    "                    # Swap nodes\n",
    "                    if node == node.parent.left:\n",
    "                        node.parent.left = block_leader\n",
    "                    else:\n",
    "                        node.parent.right = block_leader\n",
    "\n",
    "                    if block_leader.parent.left == block_leader:\n",
    "                        block_leader.parent.left = node\n",
    "                    else:\n",
    "                        block_leader.parent.right = node\n",
    "                    \n",
    "                    block_leader.parent, node.parent = node.parent, block_leader.parent\n",
    "\n",
    "            # Update weights\n",
    "            self.weights[node.weight].remove(node)\n",
    "            node.weight += 1\n",
    "\n",
    "            if node.weight not in self.weights:\n",
    "                self.weights[node.weight] = set([node])\n",
    "            else:\n",
    "                self.weights[node.weight].add(node)\n",
    "\n",
    "    def get_code(self, char):\n",
    "        node = self.nodes[char]\n",
    "        code = \"\"\n",
    "        while node != self.root:\n",
    "            if node == node.parent.left:\n",
    "                code += \"0\"\n",
    "            else:\n",
    "                code += \"1\"\n",
    "            node = node.parent\n",
    "\n",
    "        return bitarray(code[::-1])\n",
    "\n",
    "    def encode(self, text):\n",
    "        coded_text = bitarray()\n",
    "        for char in text:\n",
    "            if char in self.nodes:\n",
    "                coded_text += self.get_code(char)\n",
    "                self.increment(self.nodes[char])\n",
    "            else:\n",
    "                # Encode char as 8 bits (we add # code because we need to know when to decode first occurence of char)\n",
    "                coded_text += self.get_code(\"NYT\") + bitarray(f\"{ord(char):08b}\")\n",
    "                self.add_char_to_tree(char)\n",
    "        \n",
    "        # Make coded text divisible by 8\n",
    "        end_bits = 8 - len(coded_text) % 8\n",
    "        coded_text = bitarray(f\"{end_bits:08b}\") + coded_text + bitarray(end_bits)\n",
    "        return coded_text\n",
    "    \n",
    "    \n",
    "    def encode_to_file(self, text, filename):\n",
    "        coded_text = self.encode(text)\n",
    "        with open(filename, 'wb') as f:\n",
    "            coded_text.tofile(f)\n",
    "        return coded_text\n",
    "\n",
    "        \n",
    "    @staticmethod\n",
    "    def decode(encoded_text):\n",
    "        tree = AdaptiveHuffmanEncoder()\n",
    "        bit = 0\n",
    "        encoded = encoded_text[8:-int(encoded_text[:8].to01(),2)]\n",
    "        decoded = \"\"\n",
    "        node = tree.root\n",
    "        \n",
    "        while bit < len(encoded):\n",
    "            # Get char from tree\n",
    "            while not (node.left is None and node.right is None):\n",
    "                if not encoded[bit]:\n",
    "                    node = node.left\n",
    "                else:\n",
    "                    node = node.right\n",
    "                bit += 1\n",
    "            if node.value == \"NYT\":\n",
    "                # Read 8 bits and add new node to tree\n",
    "                decoded_char = chr(int(encoded[bit:bit + 8].to01(), 2))\n",
    "                tree.add_char_to_tree(decoded_char)\n",
    "                bit += 8\n",
    "            else:\n",
    "                decoded_char = node.value\n",
    "                tree.increment(tree.nodes[decoded_char])\n",
    "                \n",
    "            node = tree.root\n",
    "            decoded += decoded_char\n",
    "\n",
    "        return decoded\n",
    "    \n",
    "    @staticmethod\n",
    "    def decode_from_file(filename):\n",
    "        with open(filename, 'rb') as f:\n",
    "            encoded = bitarray()\n",
    "            encoded.fromfile(f)\n",
    "        return AdaptiveHuffmanEncoder.decode(encoded)\n",
    "    \n",
    "    def print_tree(self):\n",
    "        def traverse(node, code):\n",
    "            if node.value:\n",
    "                print(f\"{node.value}: {code}\")\n",
    "            else:\n",
    "                traverse(node.left, code + '0')\n",
    "                traverse(node.right, code + '1')\n",
    "        traverse(self.root, '')"
   ]
  },
  {
   "attachments": {},
   "cell_type": "markdown",
   "metadata": {},
   "source": [
    "#### Przykład kodowania tekstu \n"
   ]
  },
  {
   "cell_type": "code",
   "execution_count": 27,
   "metadata": {},
   "outputs": [
    {
     "name": "stdout",
     "output_type": "stream",
     "text": [
      "Original text:  Hello World!\n",
      "Encoded text:  bitarray('000001000100100000110010100011011000011000110111100000100000100001010111011110000111001001100000110010001000001000010010')\n",
      "Decoded text:  Hello World!\n"
     ]
    }
   ],
   "source": [
    "text = \"Hello World!\"\n",
    "encoder = AdaptiveHuffmanEncoder()\n",
    "encoded = encoder.encode(text)\n",
    "decoded = AdaptiveHuffmanEncoder.decode(encoded)\n",
    "\n",
    "print(\"Original text: \", text)\n",
    "print(\"Encoded text: \", encoded)\n",
    "print(\"Decoded text: \", decoded)"
   ]
  },
  {
   "attachments": {},
   "cell_type": "markdown",
   "metadata": {},
   "source": [
    "## Zadanie 2 - Analiza algorytmów - pomiar czasu oraz wyznaczenie współczynnika kompresji"
   ]
  },
  {
   "cell_type": "code",
   "execution_count": 7,
   "metadata": {},
   "outputs": [],
   "source": [
    "def compression_ratio(read_file, write_file):\n",
    "    original_size = os.path.getsize(read_file)\n",
    "    coded_size = os.path.getsize(write_file)\n",
    "    return (1 - coded_size / original_size)*100\n",
    "\n",
    "def test_huffman(filepath):\n",
    "    text = open(filepath, 'r').read()\n",
    "    \n",
    "    filename = filepath.split(\"/\")[-1]\n",
    "    \n",
    "    start_time = process_time()\n",
    "    encoder = StaticHuffmanEncoder(text)\n",
    "    encoded = encoder.encode_to_file(f\"./output/compressed-static-{filename}\")\n",
    "    encoding_time = process_time() - start_time\n",
    "\n",
    "    start_time = process_time()\n",
    "    decoded = encoder.decode_from_file(f\"./output/compressed-static-{filename}\")\n",
    "    decoding_time = process_time() - start_time\n",
    "\n",
    "    if decoded != text:\n",
    "        print(\"Static Huffman failed\")\n",
    "        return\n",
    "\n",
    "    print(f\"Static Huffman encoding time: {encoding_time}s\")\n",
    "    print(f\"Static Huffman decoding time: {decoding_time}s\")\n",
    "    print(f\"Static Huffman overall time: {encoding_time + decoding_time}s\")\n",
    "    print(f\"Compression ratio: {compression_ratio(filepath, f'./output/compressed-static-{filename}')}%\")\n",
    "\n",
    "    start_time = process_time()\n",
    "    encoder = StaticHuffmanEncoder(text)\n",
    "    encoded = encoder.encode_to_file(f\"./output/compressed-static-enctree-{filename}\", encode_tree=True)\n",
    "    encoding_time = process_time() - start_time\n",
    "\n",
    "    start_time = process_time()\n",
    "    decoded = encoder.decode_from_file(f\"./output/compressed-static-enctree-{filename}\", encoded_tree=True)\n",
    "    decoding_time = process_time() - start_time\n",
    "\n",
    "    if decoded != text:\n",
    "        print(\"Static Huffman failed\")\n",
    "        return\n",
    "\n",
    "    print(f\"\\nStatic Huffman (with tree encoded) encoding time: {encoding_time}s\")\n",
    "    print(f\"Static Huffman (with tree encoded) decoding time: {decoding_time}s\")\n",
    "    print(f\"Static Huffman (with tree encoded) overall time: {encoding_time + decoding_time}s\")\n",
    "    print(f\"Compression ratio: {compression_ratio(filepath, f'./output/compressed-static-enctree-{filename}')}%\")\n",
    "\n",
    "\n",
    "    start_time = process_time()\n",
    "    encoder = AdaptiveHuffmanEncoder()\n",
    "    encoded = encoder.encode_to_file(text, f\"./output/compressed-adaptive-{filename}\")\n",
    "    encoding_time = process_time() - start_time\n",
    "\n",
    "    start_time = process_time()\n",
    "    decoded = AdaptiveHuffmanEncoder.decode_from_file(f\"./output/compressed-adaptive-{filename}\")\n",
    "    decoding_time = process_time() - start_time\n",
    "\n",
    "    if decoded != text:\n",
    "        print(\"Adaptive Huffman failed\")\n",
    "        return\n",
    "\n",
    "    print(f\"\\nAdaptive Huffman encoding time: {encoding_time}s\")\n",
    "    print(f\"Adaptive Huffman decoding time: {decoding_time}s\")\n",
    "    print(f\"Adaptive Huffman overall time: {encoding_time + decoding_time}s\")\n",
    "    print(f\"Compression ratio: {compression_ratio(filepath, f'./output/compressed-adaptive-{filename}')}%\")\n"
   ]
  },
  {
   "attachments": {},
   "cell_type": "markdown",
   "metadata": {},
   "source": [
    "### Testy pliku z serwisu Project Gutenberg"
   ]
  },
  {
   "cell_type": "code",
   "execution_count": 8,
   "metadata": {},
   "outputs": [
    {
     "name": "stdout",
     "output_type": "stream",
     "text": [
      "Static Huffman encoding time: 0.0007569999999998966s\n",
      "Static Huffman decoding time: 0.0007760000000001099s\n",
      "Static Huffman overall time: 0.0015330000000000066s\n",
      "Compression ratio: 41.11328125%\n",
      "\n",
      "Static Huffman (with tree encoded) encoding time: 0.0005389999999998452s\n",
      "Static Huffman (with tree encoded) decoding time: 0.0005619999999999514s\n",
      "Static Huffman (with tree encoded) overall time: 0.0011009999999997966s\n",
      "Compression ratio: 12.40234375%\n",
      "\n",
      "Adaptive Huffman encoding time: 0.005692999999999948s\n",
      "Adaptive Huffman decoding time: 0.0045119999999998495s\n",
      "Adaptive Huffman overall time: 0.010204999999999798s\n",
      "Compression ratio: 30.56640625%\n"
     ]
    }
   ],
   "source": [
    "test_huffman(\"./files/gutenberg_1kB.txt\")"
   ]
  },
  {
   "cell_type": "code",
   "execution_count": 9,
   "metadata": {},
   "outputs": [
    {
     "name": "stdout",
     "output_type": "stream",
     "text": [
      "Static Huffman encoding time: 0.0027680000000001037s\n",
      "Static Huffman decoding time: 0.004329000000000027s\n",
      "Static Huffman overall time: 0.007097000000000131s\n",
      "Compression ratio: 41.455078125%\n",
      "\n",
      "Static Huffman (with tree encoded) encoding time: 0.0022800000000000598s\n",
      "Static Huffman (with tree encoded) decoding time: 0.0039010000000001543s\n",
      "Static Huffman (with tree encoded) overall time: 0.006181000000000214s\n",
      "Compression ratio: 37.607421875%\n",
      "\n",
      "Adaptive Huffman encoding time: 0.050602000000000036s\n",
      "Adaptive Huffman decoding time: 0.04738500000000001s\n",
      "Adaptive Huffman overall time: 0.09798700000000005s\n",
      "Compression ratio: 29.19921875%\n"
     ]
    }
   ],
   "source": [
    "test_huffman(\"./files/gutenberg_10kB.txt\")"
   ]
  },
  {
   "cell_type": "code",
   "execution_count": 10,
   "metadata": {},
   "outputs": [
    {
     "name": "stdout",
     "output_type": "stream",
     "text": [
      "Static Huffman encoding time: 0.019571000000000005s\n",
      "Static Huffman decoding time: 0.03801800000000011s\n",
      "Static Huffman overall time: 0.05758900000000011s\n",
      "Compression ratio: 41.80273437499999%\n",
      "\n",
      "Static Huffman (with tree encoded) encoding time: 0.018896000000000024s\n",
      "Static Huffman (with tree encoded) decoding time: 0.03863899999999987s\n",
      "Static Huffman (with tree encoded) overall time: 0.05753499999999989s\n",
      "Compression ratio: 41.32519531249999%\n",
      "\n",
      "Adaptive Huffman encoding time: 0.5276419999999999s\n",
      "Adaptive Huffman decoding time: 0.5248780000000002s\n",
      "Adaptive Huffman overall time: 1.0525200000000001s\n",
      "Compression ratio: 29.3232421875%\n"
     ]
    }
   ],
   "source": [
    "test_huffman(\"./files/gutenberg_100kB.txt\")"
   ]
  },
  {
   "cell_type": "code",
   "execution_count": 11,
   "metadata": {},
   "outputs": [
    {
     "name": "stdout",
     "output_type": "stream",
     "text": [
      "Static Huffman encoding time: 0.19134699999999993s\n",
      "Static Huffman decoding time: 0.3875740000000003s\n",
      "Static Huffman overall time: 0.5789210000000002s\n",
      "Compression ratio: 43.10178756713867%\n",
      "\n",
      "Static Huffman (with tree encoded) encoding time: 0.18975699999999973s\n",
      "Static Huffman (with tree encoded) decoding time: 0.3833359999999999s\n",
      "Static Huffman (with tree encoded) overall time: 0.5730929999999996s\n",
      "Compression ratio: 43.05133819580078%\n",
      "\n",
      "Adaptive Huffman encoding time: 5.998763s\n",
      "Adaptive Huffman decoding time: 5.8563790000000004s\n",
      "Adaptive Huffman overall time: 11.855142s\n",
      "Compression ratio: 29.991722106933594%\n"
     ]
    }
   ],
   "source": [
    "test_huffman(\"./files/gutenberg_1MB.txt\")"
   ]
  },
  {
   "attachments": {},
   "cell_type": "markdown",
   "metadata": {},
   "source": [
    "### Testy pliku z kodem źródłowym jądra Linuksa"
   ]
  },
  {
   "cell_type": "code",
   "execution_count": 12,
   "metadata": {},
   "outputs": [
    {
     "name": "stdout",
     "output_type": "stream",
     "text": [
      "Static Huffman encoding time: 0.0012310000000006482s\n",
      "Static Huffman decoding time: 0.0008730000000003457s\n",
      "Static Huffman overall time: 0.002104000000000994s\n",
      "Compression ratio: 34.66796875%\n",
      "\n",
      "Static Huffman (with tree encoded) encoding time: 0.00079200000000057s\n",
      "Static Huffman (with tree encoded) decoding time: 0.0006350000000008293s\n",
      "Static Huffman (with tree encoded) overall time: 0.0014270000000013994s\n",
      "Compression ratio: 0.09765625%\n",
      "\n",
      "Adaptive Huffman encoding time: 0.005613999999999564s\n",
      "Adaptive Huffman decoding time: 0.005035999999998708s\n",
      "Adaptive Huffman overall time: 0.010649999999998272s\n",
      "Compression ratio: 21.6796875%\n"
     ]
    }
   ],
   "source": [
    "test_huffman(\"./files/linux_1kB.txt\")"
   ]
  },
  {
   "cell_type": "code",
   "execution_count": 13,
   "metadata": {},
   "outputs": [
    {
     "name": "stdout",
     "output_type": "stream",
     "text": [
      "Static Huffman encoding time: 0.0029639999999986344s\n",
      "Static Huffman decoding time: 0.004770000000000607s\n",
      "Static Huffman overall time: 0.0077339999999992415s\n",
      "Compression ratio: 29.472656249999996%\n",
      "\n",
      "Static Huffman (with tree encoded) encoding time: 0.0023529999999993834s\n",
      "Static Huffman (with tree encoded) decoding time: 0.0046160000000003976s\n",
      "Static Huffman (with tree encoded) overall time: 0.006968999999999781s\n",
      "Compression ratio: 25.234374999999996%\n",
      "\n",
      "Adaptive Huffman encoding time: 0.05283599999999922s\n",
      "Adaptive Huffman decoding time: 0.05039099999999941s\n",
      "Adaptive Huffman overall time: 0.10322699999999863s\n",
      "Compression ratio: 24.248046874999996%\n"
     ]
    }
   ],
   "source": [
    "test_huffman(\"./files/linux_10kB.txt\")"
   ]
  },
  {
   "cell_type": "code",
   "execution_count": 14,
   "metadata": {},
   "outputs": [
    {
     "name": "stdout",
     "output_type": "stream",
     "text": [
      "Static Huffman encoding time: 0.020839000000000496s\n",
      "Static Huffman decoding time: 0.04429100000000119s\n",
      "Static Huffman overall time: 0.06513000000000169s\n",
      "Compression ratio: 30.537109375000004%\n",
      "\n",
      "Static Huffman (with tree encoded) encoding time: 0.020497000000000654s\n",
      "Static Huffman (with tree encoded) decoding time: 0.043963999999999004s\n",
      "Static Huffman (with tree encoded) overall time: 0.06446099999999966s\n",
      "Compression ratio: 30.0888671875%\n",
      "\n",
      "Adaptive Huffman encoding time: 0.5373599999999996s\n",
      "Adaptive Huffman decoding time: 0.497088999999999s\n",
      "Adaptive Huffman overall time: 1.0344489999999986s\n",
      "Compression ratio: 25.386718750000004%\n"
     ]
    }
   ],
   "source": [
    "test_huffman(\"./files/linux_100kB.txt\")"
   ]
  },
  {
   "cell_type": "code",
   "execution_count": 15,
   "metadata": {},
   "outputs": [
    {
     "name": "stdout",
     "output_type": "stream",
     "text": [
      "Static Huffman encoding time: 0.20204299999999975s\n",
      "Static Huffman decoding time: 0.4528630000000007s\n",
      "Static Huffman overall time: 0.6549060000000004s\n",
      "Compression ratio: 30.16042709350586%\n",
      "\n",
      "Static Huffman (with tree encoded) encoding time: 0.2003939999999993s\n",
      "Static Huffman (with tree encoded) decoding time: 0.4510240000000003s\n",
      "Static Huffman (with tree encoded) overall time: 0.6514179999999996s\n",
      "Compression ratio: 30.11474609375%\n",
      "\n",
      "Adaptive Huffman encoding time: 6.3234379999999994s\n",
      "Adaptive Huffman decoding time: 6.391002s\n",
      "Adaptive Huffman overall time: 12.71444s\n",
      "Compression ratio: 24.505138397216797%\n"
     ]
    }
   ],
   "source": [
    "test_huffman(\"./files/linux_1MB.txt\")"
   ]
  },
  {
   "attachments": {},
   "cell_type": "markdown",
   "metadata": {},
   "source": [
    "### Testy pliku ze znakami losowanymi z rozkładu jednostajnego"
   ]
  },
  {
   "cell_type": "code",
   "execution_count": 21,
   "metadata": {},
   "outputs": [
    {
     "name": "stdout",
     "output_type": "stream",
     "text": [
      "Static Huffman encoding time: 0.0019540000000048963s\n",
      "Static Huffman decoding time: 0.0012380000000007385s\n",
      "Static Huffman overall time: 0.0031920000000056348s\n",
      "Compression ratio: 34.375%\n",
      "\n",
      "Static Huffman (with tree encoded) encoding time: 0.0015169999999997685s\n",
      "Static Huffman (with tree encoded) decoding time: 0.001548999999997136s\n",
      "Static Huffman (with tree encoded) overall time: 0.0030659999999969045s\n",
      "Compression ratio: -81.73828125%\n",
      "\n",
      "Adaptive Huffman encoding time: 0.013478999999996688s\n",
      "Adaptive Huffman decoding time: 0.01163599999999576s\n",
      "Adaptive Huffman overall time: 0.02511499999999245s\n",
      "Compression ratio: 8.59375%\n"
     ]
    }
   ],
   "source": [
    "test_huffman(\"./files/uniform_1kB.txt\")"
   ]
  },
  {
   "cell_type": "code",
   "execution_count": 17,
   "metadata": {},
   "outputs": [
    {
     "name": "stdout",
     "output_type": "stream",
     "text": [
      "Static Huffman encoding time: 0.002601999999999549s\n",
      "Static Huffman decoding time: 0.0043500000000022965s\n",
      "Static Huffman overall time: 0.006952000000001846s\n",
      "Compression ratio: 33.388671875%\n",
      "\n",
      "Static Huffman (with tree encoded) encoding time: 0.0021529999999998495s\n",
      "Static Huffman (with tree encoded) decoding time: 0.004673000000000371s\n",
      "Static Huffman (with tree encoded) overall time: 0.006826000000000221s\n",
      "Compression ratio: 20.947265625%\n",
      "\n",
      "Adaptive Huffman encoding time: 0.05784099999999981s\n",
      "Adaptive Huffman decoding time: 0.05519899999999822s\n",
      "Adaptive Huffman overall time: 0.11303999999999803s\n",
      "Compression ratio: 30.683593750000004%\n"
     ]
    }
   ],
   "source": [
    "test_huffman(\"./files/uniform_10kB.txt\")"
   ]
  },
  {
   "cell_type": "code",
   "execution_count": 18,
   "metadata": {},
   "outputs": [
    {
     "name": "stdout",
     "output_type": "stream",
     "text": [
      "Static Huffman encoding time: 0.01557600000000292s\n",
      "Static Huffman decoding time: 0.0402780000000007s\n",
      "Static Huffman overall time: 0.05585400000000362s\n",
      "Compression ratio: 33.1767578125%\n",
      "\n",
      "Static Huffman (with tree encoded) encoding time: 0.015533999999998827s\n",
      "Static Huffman (with tree encoded) decoding time: 0.04001300000000185s\n",
      "Static Huffman (with tree encoded) overall time: 0.05554700000000068s\n",
      "Compression ratio: 31.9326171875%\n",
      "\n",
      "Adaptive Huffman encoding time: 0.5117159999999998s\n",
      "Adaptive Huffman decoding time: 0.47943599999999975s\n",
      "Adaptive Huffman overall time: 0.9911519999999996s\n",
      "Compression ratio: 32.86914062500001%\n"
     ]
    }
   ],
   "source": [
    "test_huffman(\"./files/uniform_100kB.txt\")"
   ]
  },
  {
   "cell_type": "code",
   "execution_count": 19,
   "metadata": {},
   "outputs": [
    {
     "name": "stdout",
     "output_type": "stream",
     "text": [
      "Static Huffman encoding time: 0.1670909999999992s\n",
      "Static Huffman decoding time: 0.4073330000000013s\n",
      "Static Huffman overall time: 0.5744240000000005s\n",
      "Compression ratio: 33.37831497192383%\n",
      "\n",
      "Static Huffman (with tree encoded) encoding time: 0.15088599999999985s\n",
      "Static Huffman (with tree encoded) decoding time: 0.40606000000000364s\n",
      "Static Huffman (with tree encoded) overall time: 0.5569460000000035s\n",
      "Compression ratio: 33.25681686401367%\n",
      "\n",
      "Adaptive Huffman encoding time: 5.355218999999998s\n",
      "Adaptive Huffman decoding time: 5.491534999999999s\n",
      "Adaptive Huffman overall time: 10.846753999999997s\n",
      "Compression ratio: 33.31718444824219%\n"
     ]
    }
   ],
   "source": [
    "test_huffman(\"./files/uniform_1MB.txt\")"
   ]
  },
  {
   "attachments": {},
   "cell_type": "markdown",
   "metadata": {},
   "source": [
    "## Wnioski"
   ]
  },
  {
   "attachments": {},
   "cell_type": "markdown",
   "metadata": {},
   "source": [
    "Dla większości plików, lepszy współczynnik kompresji miał algorytm statycznego kodowania Huffmana od dynamicznego kodowania Huffmana. Trochę gorszy współczynnik miał statyczny algorytm Huffmana z kodowaniem wystąpień, lecz ta obserwacja jest zrozumiała, ze względu na dodatkowe bity z liczbą wystąpień liter. Również algorytm statycznego kodowania był szybszy od dynamicznego kodowania. Ciekawą obserwacją jest wynik dla pliku uniform_1kB.txt, gdzie plik uzyskany za pomocą statycznego kodowania Huffmana z zapisem wystąpień do plików przyjął ujemny współczynnik kompresji co oznacza, że plik stał się większy po kompresji. W tym przypadku lepszym pomysłem jest skorzystanie z dynamicznego kodowania.\n",
    "\n",
    "Zaobserwowane wyniki są związane ze sposobem budowy drzewa Huffmana. Statyczny algorytm buduje drzewo na podstawie częstości występowania symboli, natomiast dynamiczny algorytm buduje drzewo dynamicznie, na podstawie kolejności symboli w pliku. To oznacza, że kody dla symboli o małej częstości występowania mogą być dłuższe w przypadku algorytmu dynamicznego kodowania Huffmana. Dodatkowo, w przypadku dynamicznego kodowania Huffmana, musimy zapamiętywać kiedy dany symbol wystąpił po raz pierwszy, aby móc go dodać do drzewa, co może powodować wydłużenie się zakodowanego tekstu."
   ]
  },
  {
   "attachments": {},
   "cell_type": "markdown",
   "metadata": {},
   "source": [
    "## Inne algorytmy kompresji\n",
    "\n",
    "https://neptune.ai/blog/lossless-data-compression-using-arithmetic-encoding-in-python-and-its-applications-in-deep-learning"
   ]
  }
 ],
 "metadata": {
  "kernelspec": {
   "display_name": "Python 3",
   "language": "python",
   "name": "python3"
  },
  "language_info": {
   "codemirror_mode": {
    "name": "ipython",
    "version": 3
   },
   "file_extension": ".py",
   "mimetype": "text/x-python",
   "name": "python",
   "nbconvert_exporter": "python",
   "pygments_lexer": "ipython3",
   "version": "3.10.9"
  },
  "orig_nbformat": 4
 },
 "nbformat": 4,
 "nbformat_minor": 2
}
